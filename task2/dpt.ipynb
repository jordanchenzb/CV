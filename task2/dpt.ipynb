{
 "cells": [
  {
   "cell_type": "code",
   "execution_count": 29,
   "id": "c7fef263",
   "metadata": {},
   "outputs": [],
   "source": [
    "import cv2, imageio\n",
    "import numpy as np\n",
    "import matplotlib.pyplot as plt\n",
    "from save_depth_example import *\n",
    "from PIL import Image"
   ]
  },
  {
   "cell_type": "code",
   "execution_count": 19,
   "id": "72587fb9",
   "metadata": {},
   "outputs": [],
   "source": [
    "with open(\"images_test.txt\",\"r\") as f: #image_test.txt里面有测试图片的名称\n",
    "    for line in f.readlines():\n",
    "        line=line.strip('\\n')\n",
    "        name=line.strip('.jpg')\n",
    "        load_path='depth_maps/'+name+'.jpg'+'.geometric'+'.bin' #从depth_map文件夹里读取测试图片的深度图\n",
    "        data=read_array(load_path)\n",
    "        dst=cv2.GaussianBlur(data,(3,3),sigmaX=0.8,sigmaY=0.8)\n",
    "#         dst=cv2.medianBlur(data,5)\n",
    "#         dst=cv2.bilateralFilter(data,d=6,sigmaColor=40,sigmaSpace=40)\n",
    "        save_path1='geo/'+name+'.npz' #保存.npz文件\n",
    "        save_path2='geo_gaussian/'+name+'.npz' #保存滤波后的结果\n",
    "#         save_path2='geo_median/'+name+'.npz'\n",
    "#        save_path2='geo_bilateral/'+name+'.npz'\n",
    "        save_np(data,save_path1)\n",
    "        save_np(dst,save_path2)"
   ]
  },
  {
   "cell_type": "code",
   "execution_count": 99,
   "id": "1fb355c4",
   "metadata": {},
   "outputs": [],
   "source": [
    "with open(\"images_test.txt\",\"r\") as f:\n",
    "    for line in f.readlines():\n",
    "        line=line.strip('\\n')\n",
    "        name=line.strip('.jpg')\n",
    "        load_path='depth_maps/'+name+'.jpg'+'.photometric'+'.bin'\n",
    "        data=read_array(load_path)\n",
    "#         data=cv2.blur(data,(5,5))\n",
    "#         dst=cv2.medianBlur(data,5)\n",
    "#         dst=cv2.bilateralFilter(data,d=5,sigmaColor=40,sigmaSpace=40)\n",
    "#         dst=cv2.GaussianBlur(data,(25,25),sigmaX=0,sigmaY=0)\n",
    "#         dst=cv2.GaussianBlur(data,(101,101),sigmaX=0,sigmaY=0)\n",
    "        dst=cv2.GaussianBlur(data,(101,101),sigmaX=1.318,sigmaY=1.318)\n",
    "        save_path1='photo/'+name+'.npz'\n",
    "        save_path2='dpt/'+name+'.npz'\n",
    "#         save_path2='photo_median/'+name+'.npz'\n",
    "#        save_path2='photo_bilateral/'+name+'.npz'\n",
    "        save_np(data,save_path1)\n",
    "        save_np(dst,save_path2)"
   ]
  },
  {
   "cell_type": "code",
   "execution_count": 100,
   "id": "e3355d35",
   "metadata": {},
   "outputs": [],
   "source": [
    "with open(\"images_test.txt\",\"r\") as f: #可视化原图和滤波结果\n",
    "    for line in f.readlines():\n",
    "        line=line.strip('\\n')\n",
    "        name=line.strip('.jpg')\n",
    "        load_path1='depth_maps/'+name+'.jpg'+'.photometric'+'.bin'\n",
    "        load_path2='dpt/'+name+'.npz'\n",
    "        \n",
    "        out_path1='yuantu/'+name+'.png'\n",
    "        out_path2='gaosilvbo/'+name+'.png'\n",
    "        depth_map = read_array(load_path1)\n",
    "        im1=Image.fromarray(np.uint8(depth_map))\n",
    "        im1.save(out_path1)\n",
    "        res=np.load(load_path2)\n",
    "        result=res['arr_0']\n",
    "        im=Image.fromarray(np.uint8(result))\n",
    "        im.save(out_path2)"
   ]
  },
  {
   "cell_type": "code",
   "execution_count": null,
   "id": "96343f79",
   "metadata": {},
   "outputs": [],
   "source": []
  }
 ],
 "metadata": {
  "kernelspec": {
   "display_name": "Python 3 (ipykernel)",
   "language": "python",
   "name": "python3"
  },
  "language_info": {
   "codemirror_mode": {
    "name": "ipython",
    "version": 3
   },
   "file_extension": ".py",
   "mimetype": "text/x-python",
   "name": "python",
   "nbconvert_exporter": "python",
   "pygments_lexer": "ipython3",
   "version": "3.8.8"
  }
 },
 "nbformat": 4,
 "nbformat_minor": 5
}
